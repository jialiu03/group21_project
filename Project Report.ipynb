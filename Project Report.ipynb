{
 "cells": [
  {
   "cell_type": "markdown",
   "id": "56619ab5-3f3b-4f97-b582-bbcccce4d2fc",
   "metadata": {},
   "source": [
    "# DSCI Group 005 21 Project Report"
   ]
  },
  {
   "cell_type": "markdown",
   "id": "c36bfb3d-455c-47f8-ac93-7735a80f7c1e",
   "metadata": {},
   "source": [
    "### Introduction:"
   ]
  },
  {
   "cell_type": "markdown",
   "id": "835c1fbb-1a8b-4890-ad6e-57ee86130471",
   "metadata": {},
   "source": [
    "### Methods & Results:\n",
    "\n",
    "In order to solve the predictive problem, we use both linear regression and K-nearest neighbors (KNN) regression. \n",
    "We start by loading packages, setting the seed, loading data, wrangling data and cleaning them."
   ]
  },
  {
   "cell_type": "code",
   "execution_count": 1,
   "id": "ed5fc650-8e3e-4eea-bf24-52fc265b5fff",
   "metadata": {},
   "outputs": [
    {
     "name": "stderr",
     "output_type": "stream",
     "text": [
      "── \u001b[1mAttaching packages\u001b[22m ─────────────────────────────────────── tidyverse 1.3.1 ──\n",
      "\n",
      "\u001b[32m✔\u001b[39m \u001b[34mggplot2\u001b[39m 3.3.6     \u001b[32m✔\u001b[39m \u001b[34mpurrr  \u001b[39m 0.3.4\n",
      "\u001b[32m✔\u001b[39m \u001b[34mtibble \u001b[39m 3.1.7     \u001b[32m✔\u001b[39m \u001b[34mdplyr  \u001b[39m 1.0.9\n",
      "\u001b[32m✔\u001b[39m \u001b[34mtidyr  \u001b[39m 1.2.0     \u001b[32m✔\u001b[39m \u001b[34mstringr\u001b[39m 1.4.0\n",
      "\u001b[32m✔\u001b[39m \u001b[34mreadr  \u001b[39m 2.1.2     \u001b[32m✔\u001b[39m \u001b[34mforcats\u001b[39m 0.5.1\n",
      "\n",
      "── \u001b[1mConflicts\u001b[22m ────────────────────────────────────────── tidyverse_conflicts() ──\n",
      "\u001b[31m✖\u001b[39m \u001b[34mdplyr\u001b[39m::\u001b[32mfilter()\u001b[39m masks \u001b[34mstats\u001b[39m::filter()\n",
      "\u001b[31m✖\u001b[39m \u001b[34mdplyr\u001b[39m::\u001b[32mlag()\u001b[39m    masks \u001b[34mstats\u001b[39m::lag()\n",
      "\n",
      "── \u001b[1mAttaching packages\u001b[22m ────────────────────────────────────── tidymodels 1.0.0 ──\n",
      "\n",
      "\u001b[32m✔\u001b[39m \u001b[34mbroom       \u001b[39m 1.0.0     \u001b[32m✔\u001b[39m \u001b[34mrsample     \u001b[39m 1.0.0\n",
      "\u001b[32m✔\u001b[39m \u001b[34mdials       \u001b[39m 1.0.0     \u001b[32m✔\u001b[39m \u001b[34mtune        \u001b[39m 1.0.0\n",
      "\u001b[32m✔\u001b[39m \u001b[34minfer       \u001b[39m 1.0.2     \u001b[32m✔\u001b[39m \u001b[34mworkflows   \u001b[39m 1.0.0\n",
      "\u001b[32m✔\u001b[39m \u001b[34mmodeldata   \u001b[39m 1.0.0     \u001b[32m✔\u001b[39m \u001b[34mworkflowsets\u001b[39m 1.0.0\n",
      "\u001b[32m✔\u001b[39m \u001b[34mparsnip     \u001b[39m 1.0.0     \u001b[32m✔\u001b[39m \u001b[34myardstick   \u001b[39m 1.0.0\n",
      "\u001b[32m✔\u001b[39m \u001b[34mrecipes     \u001b[39m 1.0.1     \n",
      "\n",
      "── \u001b[1mConflicts\u001b[22m ───────────────────────────────────────── tidymodels_conflicts() ──\n",
      "\u001b[31m✖\u001b[39m \u001b[34mscales\u001b[39m::\u001b[32mdiscard()\u001b[39m masks \u001b[34mpurrr\u001b[39m::discard()\n",
      "\u001b[31m✖\u001b[39m \u001b[34mdplyr\u001b[39m::\u001b[32mfilter()\u001b[39m   masks \u001b[34mstats\u001b[39m::filter()\n",
      "\u001b[31m✖\u001b[39m \u001b[34mrecipes\u001b[39m::\u001b[32mfixed()\u001b[39m  masks \u001b[34mstringr\u001b[39m::fixed()\n",
      "\u001b[31m✖\u001b[39m \u001b[34mdplyr\u001b[39m::\u001b[32mlag()\u001b[39m      masks \u001b[34mstats\u001b[39m::lag()\n",
      "\u001b[31m✖\u001b[39m \u001b[34myardstick\u001b[39m::\u001b[32mspec()\u001b[39m masks \u001b[34mreadr\u001b[39m::spec()\n",
      "\u001b[31m✖\u001b[39m \u001b[34mrecipes\u001b[39m::\u001b[32mstep()\u001b[39m   masks \u001b[34mstats\u001b[39m::step()\n",
      "\u001b[34m•\u001b[39m Use suppressPackageStartupMessages() to eliminate package startup messages\n",
      "\n",
      "\u001b[1m\u001b[22mNew names:\n",
      "\u001b[36m•\u001b[39m `` -> `...1`\n",
      "\u001b[1mRows: \u001b[22m\u001b[34m500\u001b[39m \u001b[1mColumns: \u001b[22m\u001b[34m38\u001b[39m\n",
      "\u001b[36m──\u001b[39m \u001b[1mColumn specification\u001b[22m \u001b[36m────────────────────────────────────────────────────────\u001b[39m\n",
      "\u001b[1mDelimiter:\u001b[22m \",\"\n",
      "\u001b[31mchr\u001b[39m (25): Age, Country, Plays, Wikipedia, Current Rank, Best Rank, Name, Bac...\n",
      "\u001b[32mdbl\u001b[39m (13): ...1, Turned Pro, Seasons, Titles, Best Season, Retired, Masters, ...\n",
      "\n",
      "\u001b[36mℹ\u001b[39m Use `spec()` to retrieve the full column specification for this data.\n",
      "\u001b[36mℹ\u001b[39m Specify the column types or set `show_col_types = FALSE` to quiet this message.\n"
     ]
    },
    {
     "data": {
      "text/html": [
       "<table class=\"dataframe\">\n",
       "<caption>A tibble: 6 × 2</caption>\n",
       "<thead>\n",
       "\t<tr><th scope=col>Seasons</th><th scope=col>current_rank</th></tr>\n",
       "\t<tr><th scope=col>&lt;dbl&gt;</th><th scope=col>&lt;int&gt;</th></tr>\n",
       "</thead>\n",
       "<tbody>\n",
       "\t<tr><td>14</td><td>178</td></tr>\n",
       "\t<tr><td> 2</td><td>236</td></tr>\n",
       "\t<tr><td>11</td><td>183</td></tr>\n",
       "\t<tr><td> 5</td><td> 31</td></tr>\n",
       "\t<tr><td> 1</td><td>307</td></tr>\n",
       "\t<tr><td> 1</td><td>232</td></tr>\n",
       "</tbody>\n",
       "</table>\n"
      ],
      "text/latex": [
       "A tibble: 6 × 2\n",
       "\\begin{tabular}{ll}\n",
       " Seasons & current\\_rank\\\\\n",
       " <dbl> & <int>\\\\\n",
       "\\hline\n",
       "\t 14 & 178\\\\\n",
       "\t  2 & 236\\\\\n",
       "\t 11 & 183\\\\\n",
       "\t  5 &  31\\\\\n",
       "\t  1 & 307\\\\\n",
       "\t  1 & 232\\\\\n",
       "\\end{tabular}\n"
      ],
      "text/markdown": [
       "\n",
       "A tibble: 6 × 2\n",
       "\n",
       "| Seasons &lt;dbl&gt; | current_rank &lt;int&gt; |\n",
       "|---|---|\n",
       "| 14 | 178 |\n",
       "|  2 | 236 |\n",
       "| 11 | 183 |\n",
       "|  5 |  31 |\n",
       "|  1 | 307 |\n",
       "|  1 | 232 |\n",
       "\n"
      ],
      "text/plain": [
       "  Seasons current_rank\n",
       "1 14      178         \n",
       "2  2      236         \n",
       "3 11      183         \n",
       "4  5       31         \n",
       "5  1      307         \n",
       "6  1      232         "
      ]
     },
     "metadata": {},
     "output_type": "display_data"
    }
   ],
   "source": [
    "library(tidyverse)\n",
    "library(tidymodels)\n",
    "\n",
    "# set seed\n",
    "set.seed(100)\n",
    "\n",
    "# read and tidy data\n",
    "player_stats <- read_csv(\"player_stats.csv\")\n",
    "colnames(player_stats)[colnames(player_stats) == \"Current Rank\"] <- \"Current_Rank\"\n",
    "player_stats <- player_stats |>\n",
    "    separate(col = Current_Rank, into = c(\"current_rank\", \"other_rank\"), sep = \" \", convert = TRUE) |>\n",
    "    filter(Seasons != \" \") |>\n",
    "    filter(current_rank != \"NA\")|>\n",
    "    select(Seasons, current_rank)\n",
    "head(player_stats)"
   ]
  },
  {
   "cell_type": "markdown",
   "id": "f18fb7b1-e27e-4863-b39b-94de113b4477",
   "metadata": {},
   "source": [
    "We split the dataset into a training set and a testing set, and visualizing the data."
   ]
  },
  {
   "cell_type": "code",
   "execution_count": 2,
   "id": "0c149a76-cabb-411e-89ef-af88a242cc44",
   "metadata": {},
   "outputs": [
    {
     "name": "stderr",
     "output_type": "stream",
     "text": [
      "`geom_smooth()` using formula 'y ~ x'\n",
      "\n"
     ]
    },
    {
     "data": {
      "image/png": "[encoded data removed]",
      "text/plain": [
       "plot without title"
      ]
     },
     "metadata": {
      "image/png": {
       "height": 420,
       "width": 420
      }
     },
     "output_type": "display_data"
    }
   ],
   "source": [
    "# split it into training and testing datasets\n",
    "player_split <- initial_split(player_stats, prop = 0.75, strata = Seasons)\n",
    "player_train <- training(player_split)\n",
    "player_test <- testing(player_split)\n",
    "\n",
    "# plot with best fit line\n",
    "player_train_plot <- player_train |>\n",
    "    ggplot(aes(x = Seasons, y = current_rank)) +\n",
    "        geom_point() +\n",
    "        xlab(\"Seasons Played\") +\n",
    "        ylab(\"Current Rank\") +\n",
    "        theme(text = element_text(size = 20)) +\n",
    "        geom_smooth(method = \"lm\", se = FALSE)\n",
    "player_train_plot"
   ]
  },
  {
   "cell_type": "markdown",
   "id": "d44e6a3b-e899-41db-8f0b-940b1010bbaa",
   "metadata": {},
   "source": [
    "We start by using linear regression."
   ]
  },
  {
   "cell_type": "markdown",
   "id": "dda59e0e-9825-4ade-a2b2-29f28e4b5e8a",
   "metadata": {},
   "source": [
    "We create the model specification and recipe, and fit our simple linear regression model."
   ]
  },
  {
   "cell_type": "code",
   "execution_count": 6,
   "id": "fdeb7b14-4f3c-49d5-9b05-8884d75eee51",
   "metadata": {},
   "outputs": [
    {
     "data": {
      "text/plain": [
       "══ Workflow [trained] ══════════════════════════════════════════════════════════\n",
       "\u001b[3mPreprocessor:\u001b[23m Recipe\n",
       "\u001b[3mModel:\u001b[23m linear_reg()\n",
       "\n",
       "── Preprocessor ────────────────────────────────────────────────────────────────\n",
       "0 Recipe Steps\n",
       "\n",
       "── Model ───────────────────────────────────────────────────────────────────────\n",
       "\n",
       "Call:\n",
       "stats::lm(formula = ..y ~ ., data = data)\n",
       "\n",
       "Coefficients:\n",
       " (Intercept)  current_rank  \n",
       "      9.6770       -0.0153  \n"
      ]
     },
     "metadata": {},
     "output_type": "display_data"
    }
   ],
   "source": [
    "# linear regression\n",
    "lm_spec <- linear_reg() |>\n",
    "    set_engine(\"lm\") |>\n",
    "    set_mode(\"regression\")\n",
    "lm_recipe <- recipe(Seasons ~., data = player_train)\n",
    "player_lm_fit <- workflow() |>\n",
    "    add_recipe(lm_recipe) |>\n",
    "    add_model(lm_spec) |>\n",
    "    fit(data = player_train)\n",
    "player_lm_fit"
   ]
  },
  {
   "cell_type": "markdown",
   "id": "5a483661-3f9b-4004-aef4-9995a7d08b9d",
   "metadata": {},
   "source": [
    "Our coefficients are (intercept)= 9.53021 and (slope) = -0.01484\n",
    "This means that the equation of the line of best fit is:"
   ]
  },
  {
   "cell_type": "markdown",
   "id": "d6581f7f-720d-4055-a3d1-f7a256621e9a",
   "metadata": {},
   "source": [
    "**Current Rank = 9.53021 - 0.01484 * Seasons Played**"
   ]
  },
  {
   "cell_type": "markdown",
   "id": "d901804c-3a44-4351-8ca8-826906754cfb",
   "metadata": {},
   "source": [
    "Finally, we predict on the test data set to assess how well our model does:"
   ]
  },
  {
   "cell_type": "code",
   "execution_count": 7,
   "id": "7a7e7465-c82e-4635-9451-d3f3f2fde8f5",
   "metadata": {},
   "outputs": [
    {
     "data": {
      "text/html": [
       "<table class=\"dataframe\">\n",
       "<caption>A tibble: 1 × 3</caption>\n",
       "<thead>\n",
       "\t<tr><th scope=col>.metric</th><th scope=col>.estimator</th><th scope=col>.estimate</th></tr>\n",
       "\t<tr><th scope=col>&lt;chr&gt;</th><th scope=col>&lt;chr&gt;</th><th scope=col>&lt;dbl&gt;</th></tr>\n",
       "</thead>\n",
       "<tbody>\n",
       "\t<tr><td>rmse</td><td>standard</td><td>4.740473</td></tr>\n",
       "</tbody>\n",
       "</table>\n"
      ],
      "text/latex": [
       "A tibble: 1 × 3\n",
       "\\begin{tabular}{lll}\n",
       " .metric & .estimator & .estimate\\\\\n",
       " <chr> & <chr> & <dbl>\\\\\n",
       "\\hline\n",
       "\t rmse & standard & 4.740473\\\\\n",
       "\\end{tabular}\n"
      ],
      "text/markdown": [
       "\n",
       "A tibble: 1 × 3\n",
       "\n",
       "| .metric &lt;chr&gt; | .estimator &lt;chr&gt; | .estimate &lt;dbl&gt; |\n",
       "|---|---|---|\n",
       "| rmse | standard | 4.740473 |\n",
       "\n"
      ],
      "text/plain": [
       "  .metric .estimator .estimate\n",
       "1 rmse    standard   4.740473 "
      ]
     },
     "metadata": {},
     "output_type": "display_data"
    }
   ],
   "source": [
    "player_lm_prediction <- player_lm_fit |>\n",
    "    predict(player_test) |>\n",
    "    bind_cols(player_test) |>\n",
    "    metrics(truth = Seasons, estimate = .pred) |>\n",
    "    filter(.metric == \"rmse\")\n",
    "player_lm_prediction"
   ]
  },
  {
   "cell_type": "markdown",
   "id": "daed874c-fae6-42d2-b0df-f7b90d86a0ca",
   "metadata": {},
   "source": [
    "Then, we use KNN regression to do the prediction."
   ]
  },
  {
   "cell_type": "markdown",
   "id": "aa2c5040-a525-4231-87e8-6f26eb52af92",
   "metadata": {},
   "source": [
    "First, we create a recipe for preprocessing our data.\n",
    "Next we create a model specification for K-nearest neighbors regression.\n",
    "Then we create a 5-fold cross-validation object, and put the recipe and model specification together in a workflow."
   ]
  },
  {
   "cell_type": "code",
   "execution_count": 8,
   "id": "3242c2b6-6d7a-426c-8f12-5bb5bd733635",
   "metadata": {},
   "outputs": [],
   "source": [
    "# KNN regression\n",
    "player_recipe <- recipe(Seasons~., data = player_train) |>\n",
    "    step_scale(all_predictors()) |>\n",
    "    step_center(all_predictors())\n",
    "tuning_spec <- nearest_neighbor(weight_func = \"rectangular\", neighbors = tune()) |>\n",
    "    set_engine(\"kknn\") |>\n",
    "    set_mode(\"regression\")\n",
    "player_vfold <- vfold_cv(player_train, v = 5, strata = Seasons)"
   ]
  },
  {
   "cell_type": "markdown",
   "id": "5df86370-dfd3-446f-878b-618ed8c53229",
   "metadata": {},
   "source": [
    "Next we run cross-validation for a grid of numbers of neighbors ranging from 10 to 100. "
   ]
  },
  {
   "cell_type": "code",
   "execution_count": 9,
   "id": "4dbdc276-5913-4cb3-bab7-1040b2fe1ffc",
   "metadata": {},
   "outputs": [],
   "source": [
    "gridvals <- tibble(neighbors = seq(from = 10, to = 100, by = 10))\n",
    "player_workflow <- workflow() |>\n",
    "    add_recipe(player_recipe) |>\n",
    "    add_model(tuning_spec) |>\n",
    "    tune_grid(resamples = player_vfold, grid = gridvals) |>\n",
    "    collect_metrics() |>\n",
    "    filter(.metric == \"rmse\")"
   ]
  },
  {
   "cell_type": "markdown",
   "id": "92239cc9-4921-4014-89bc-88a759baacb5",
   "metadata": {},
   "source": [
    "We take the minimum RMSPE to find the best setting for the number of neighbors:"
   ]
  },
  {
   "cell_type": "code",
   "execution_count": 10,
   "id": "f57ca530-79c0-46fd-be56-16f8efa915a2",
   "metadata": {},
   "outputs": [
    {
     "data": {
      "text/html": [
       "<table class=\"dataframe\">\n",
       "<caption>A tibble: 1 × 7</caption>\n",
       "<thead>\n",
       "\t<tr><th scope=col>neighbors</th><th scope=col>.metric</th><th scope=col>.estimator</th><th scope=col>mean</th><th scope=col>n</th><th scope=col>std_err</th><th scope=col>.config</th></tr>\n",
       "\t<tr><th scope=col>&lt;dbl&gt;</th><th scope=col>&lt;chr&gt;</th><th scope=col>&lt;chr&gt;</th><th scope=col>&lt;dbl&gt;</th><th scope=col>&lt;int&gt;</th><th scope=col>&lt;dbl&gt;</th><th scope=col>&lt;chr&gt;</th></tr>\n",
       "</thead>\n",
       "<tbody>\n",
       "\t<tr><td>30</td><td>rmse</td><td>standard</td><td>4.345833</td><td>5</td><td>0.1089087</td><td>Preprocessor1_Model03</td></tr>\n",
       "</tbody>\n",
       "</table>\n"
      ],
      "text/latex": [
       "A tibble: 1 × 7\n",
       "\\begin{tabular}{lllllll}\n",
       " neighbors & .metric & .estimator & mean & n & std\\_err & .config\\\\\n",
       " <dbl> & <chr> & <chr> & <dbl> & <int> & <dbl> & <chr>\\\\\n",
       "\\hline\n",
       "\t 30 & rmse & standard & 4.345833 & 5 & 0.1089087 & Preprocessor1\\_Model03\\\\\n",
       "\\end{tabular}\n"
      ],
      "text/markdown": [
       "\n",
       "A tibble: 1 × 7\n",
       "\n",
       "| neighbors &lt;dbl&gt; | .metric &lt;chr&gt; | .estimator &lt;chr&gt; | mean &lt;dbl&gt; | n &lt;int&gt; | std_err &lt;dbl&gt; | .config &lt;chr&gt; |\n",
       "|---|---|---|---|---|---|---|\n",
       "| 30 | rmse | standard | 4.345833 | 5 | 0.1089087 | Preprocessor1_Model03 |\n",
       "\n"
      ],
      "text/plain": [
       "  neighbors .metric .estimator mean     n std_err   .config              \n",
       "1 30        rmse    standard   4.345833 5 0.1089087 Preprocessor1_Model03"
      ]
     },
     "metadata": {},
     "output_type": "display_data"
    }
   ],
   "source": [
    "# show only the row of minimum RMSPE\n",
    "player_min <- player_workflow |>\n",
    "    filter(mean == min(mean))\n",
    "player_min"
   ]
  },
  {
   "cell_type": "markdown",
   "id": "37a2ad4e-31a9-4cae-8edc-b6ade9883f78",
   "metadata": {},
   "source": [
    "The smallest RMSPE occurs when  K = 30."
   ]
  },
  {
   "cell_type": "markdown",
   "id": "222e73ae-0a15-49f3-8e1d-73c21ff28568",
   "metadata": {},
   "source": [
    "Next, we need to evaulate how well our model might do at predicting on unseen data. We first re-train our KNN regression model on the entire training data set, using K = 30 neighbors. \n",
    "Then we will use predict to make predictions on the test data, and use the metrics function again to compute the summary of regression quality."
   ]
  },
  {
   "cell_type": "code",
   "execution_count": 12,
   "id": "7f638c58-7834-4d9f-a8e7-b0721a562785",
   "metadata": {},
   "outputs": [],
   "source": [
    "#slice(player_test, 37)\n",
    "#which(is.na(player_test), arr.ind=TRUE)"
   ]
  },
  {
   "cell_type": "code",
   "execution_count": 13,
   "id": "7d5fe1d2-3314-4982-b6de-a88d4eaed821",
   "metadata": {},
   "outputs": [
    {
     "data": {
      "text/html": [
       "<table class=\"dataframe\">\n",
       "<caption>A tibble: 1 × 3</caption>\n",
       "<thead>\n",
       "\t<tr><th scope=col>.metric</th><th scope=col>.estimator</th><th scope=col>.estimate</th></tr>\n",
       "\t<tr><th scope=col>&lt;chr&gt;</th><th scope=col>&lt;chr&gt;</th><th scope=col>&lt;dbl&gt;</th></tr>\n",
       "</thead>\n",
       "<tbody>\n",
       "\t<tr><td>rmse</td><td>standard</td><td>4.691381</td></tr>\n",
       "</tbody>\n",
       "</table>\n"
      ],
      "text/latex": [
       "A tibble: 1 × 3\n",
       "\\begin{tabular}{lll}\n",
       " .metric & .estimator & .estimate\\\\\n",
       " <chr> & <chr> & <dbl>\\\\\n",
       "\\hline\n",
       "\t rmse & standard & 4.691381\\\\\n",
       "\\end{tabular}\n"
      ],
      "text/markdown": [
       "\n",
       "A tibble: 1 × 3\n",
       "\n",
       "| .metric &lt;chr&gt; | .estimator &lt;chr&gt; | .estimate &lt;dbl&gt; |\n",
       "|---|---|---|\n",
       "| rmse | standard | 4.691381 |\n",
       "\n"
      ],
      "text/plain": [
       "  .metric .estimator .estimate\n",
       "1 rmse    standard   4.691381 "
      ]
     },
     "metadata": {},
     "output_type": "display_data"
    }
   ],
   "source": [
    "player_spec <- nearest_neighbor(weight_func = \"rectangular\", neighbors = 30) |>\n",
    "    set_engine(\"kknn\") |>\n",
    "    set_mode(\"regression\")\n",
    "\n",
    "player_knn_fit <- workflow() |>\n",
    "    add_recipe(player_recipe) |>\n",
    "    add_model(player_spec) |>\n",
    "    fit(data = player_train)\n",
    "\n",
    "player_knn_prediction <- player_knn_fit |>\n",
    "    predict(player_test) |>\n",
    "    bind_cols(player_test) |>\n",
    "    metrics(truth = Seasons, estimate = .pred) |>\n",
    "    filter(.metric == \"rmse\")\n",
    "\n",
    "player_knn_prediction "
   ]
  },
  {
   "cell_type": "markdown",
   "id": "d403aa74-b856-4123-8da7-0817c7c62802",
   "metadata": {},
   "source": [
    "Our final model’s test error as assessed by RMSPE is 4.474249."
   ]
  },
  {
   "cell_type": "markdown",
   "id": "148ce92c-5ce6-4a2c-b458-1c45bd7d96d9",
   "metadata": {},
   "source": [
    "By comparision, the RMSE 4.451144 < 4.474249, therefore, we would like to choose linear regression model to do the prediction."
   ]
  },
  {
   "cell_type": "markdown",
   "id": "6610bd93-3ca3-45b1-8352-06ef0cdd6207",
   "metadata": {},
   "source": [
    "### Discussion"
   ]
  },
  {
   "cell_type": "markdown",
   "id": "7312443e-e29e-47f1-badf-1138505197d1",
   "metadata": {},
   "source": [
    "### References"
   ]
  },
  {
   "cell_type": "code",
   "execution_count": null,
   "id": "1fa5e087-5cee-46cc-9fad-1771bed87642",
   "metadata": {},
   "outputs": [],
   "source": []
  }
 ],
 "metadata": {
  "kernelspec": {
   "display_name": "R",
   "language": "R",
   "name": "ir"
  },
  "language_info": {
   "codemirror_mode": "r",
   "file_extension": ".r",
   "mimetype": "text/x-r-source",
   "name": "R",
   "pygments_lexer": "r",
   "version": "4.1.3"
  }
 },
 "nbformat": 4,
 "nbformat_minor": 5
}
